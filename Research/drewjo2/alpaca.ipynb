{
 "cells": [
  {
   "cell_type": "markdown",
   "metadata": {},
   "source": [
    "Make sure to install the Alpaca Trade API (pip install alpaca-trade-api) before doing anything further."
   ]
  },
  {
   "cell_type": "markdown",
   "metadata": {},
   "source": [
    "These cells just import api and define login credentials. These don't really need to be secure - they don't have the ability to actually do anything real."
   ]
  },
  {
   "cell_type": "code",
   "execution_count": 21,
   "metadata": {},
   "outputs": [],
   "source": [
    "from alpaca.data import StockHistoricalDataClient\n",
    "from alpaca.data.requests import StockLatestQuoteRequest\n",
    "from alpaca.data.live import StockDataStream\n",
    "import matplotlib.pyplot as plt"
   ]
  },
  {
   "cell_type": "code",
   "execution_count": 17,
   "metadata": {},
   "outputs": [],
   "source": [
    "ALPACA_API_KEY = \"PK4B928AJY8WOHKYXLFP\"\n",
    "ALPACA_SECRET_KEY = \"nZpB5btAryUDZSbC9YtLOHNKLlaTCabaCp4KV1jY\"\n",
    "\n",
    "client = StockHistoricalDataClient(ALPACA_API_KEY, ALPACA_SECRET_KEY)"
   ]
  },
  {
   "cell_type": "markdown",
   "metadata": {},
   "source": [
    "Below here is API use cases"
   ]
  },
  {
   "cell_type": "code",
   "execution_count": 19,
   "metadata": {},
   "outputs": [
    {
     "name": "stdout",
     "output_type": "stream",
     "text": [
      "{'AAPL': {   'ask_exchange': 'V',\n",
      "    'ask_price': 0.0,\n",
      "    'ask_size': 0.0,\n",
      "    'bid_exchange': 'V',\n",
      "    'bid_price': 0.0,\n",
      "    'bid_size': 0.0,\n",
      "    'conditions': ['R'],\n",
      "    'symbol': 'AAPL',\n",
      "    'tape': 'C',\n",
      "    'timestamp': datetime.datetime(2023, 9, 22, 20, 0, 0, 1058, tzinfo=datetime.timezone.utc)}}\n"
     ]
    }
   ],
   "source": [
    "request = StockLatestQuoteRequest(symbol_or_symbols = \"AAPL\")\n",
    "\n",
    "latest_quote = client.get_stock_latest_quote(request)\n",
    "\n",
    "print(latest_quote)"
   ]
  },
  {
   "cell_type": "code",
   "execution_count": 22,
   "metadata": {},
   "outputs": [
    {
     "ename": "RuntimeError",
     "evalue": "asyncio.run() cannot be called from a running event loop",
     "output_type": "error",
     "traceback": [
      "\u001b[1;31m---------------------------------------------------------------------------\u001b[0m",
      "\u001b[1;31mRuntimeError\u001b[0m                              Traceback (most recent call last)",
      "\u001b[1;32mc:\\Users\\drew\\Projects\\Group6-FA23\\Research\\drewjo2\\alpaca.ipynb Cell 7\u001b[0m line \u001b[0;36m1\n\u001b[0;32m      <a href='vscode-notebook-cell:/c%3A/Users/drew/Projects/Group6-FA23/Research/drewjo2/alpaca.ipynb#X11sZmlsZQ%3D%3D?line=5'>6</a>\u001b[0m     \u001b[39mprint\u001b[39m(data)\n\u001b[0;32m      <a href='vscode-notebook-cell:/c%3A/Users/drew/Projects/Group6-FA23/Research/drewjo2/alpaca.ipynb#X11sZmlsZQ%3D%3D?line=7'>8</a>\u001b[0m wss_client\u001b[39m.\u001b[39msubscribe_quotes(quote_data_handler, \u001b[39m\"\u001b[39m\u001b[39mSPY\u001b[39m\u001b[39m\"\u001b[39m)\n\u001b[1;32m---> <a href='vscode-notebook-cell:/c%3A/Users/drew/Projects/Group6-FA23/Research/drewjo2/alpaca.ipynb#X11sZmlsZQ%3D%3D?line=9'>10</a>\u001b[0m wss_client\u001b[39m.\u001b[39;49mrun()\n",
      "File \u001b[1;32mc:\\Python311\\Lib\\site-packages\\alpaca\\common\\websocket.py:439\u001b[0m, in \u001b[0;36mBaseStream.run\u001b[1;34m(self)\u001b[0m\n\u001b[0;32m    437\u001b[0m \u001b[39m\u001b[39m\u001b[39m\"\"\"Starts up the websocket connection's event loop\"\"\"\u001b[39;00m\n\u001b[0;32m    438\u001b[0m \u001b[39mtry\u001b[39;00m:\n\u001b[1;32m--> 439\u001b[0m     asyncio\u001b[39m.\u001b[39;49mrun(\u001b[39mself\u001b[39;49m\u001b[39m.\u001b[39;49m_run_forever())\n\u001b[0;32m    440\u001b[0m \u001b[39mexcept\u001b[39;00m \u001b[39mKeyboardInterrupt\u001b[39;00m:\n\u001b[0;32m    441\u001b[0m     \u001b[39mprint\u001b[39m(\u001b[39m\"\u001b[39m\u001b[39mkeyboard interrupt, bye\u001b[39m\u001b[39m\"\u001b[39m)\n",
      "File \u001b[1;32mc:\\Python311\\Lib\\asyncio\\runners.py:186\u001b[0m, in \u001b[0;36mrun\u001b[1;34m(main, debug)\u001b[0m\n\u001b[0;32m    161\u001b[0m \u001b[39m\u001b[39m\u001b[39m\"\"\"Execute the coroutine and return the result.\u001b[39;00m\n\u001b[0;32m    162\u001b[0m \n\u001b[0;32m    163\u001b[0m \u001b[39mThis function runs the passed coroutine, taking care of\u001b[39;00m\n\u001b[1;32m   (...)\u001b[0m\n\u001b[0;32m    182\u001b[0m \u001b[39m    asyncio.run(main())\u001b[39;00m\n\u001b[0;32m    183\u001b[0m \u001b[39m\"\"\"\u001b[39;00m\n\u001b[0;32m    184\u001b[0m \u001b[39mif\u001b[39;00m events\u001b[39m.\u001b[39m_get_running_loop() \u001b[39mis\u001b[39;00m \u001b[39mnot\u001b[39;00m \u001b[39mNone\u001b[39;00m:\n\u001b[0;32m    185\u001b[0m     \u001b[39m# fail fast with short traceback\u001b[39;00m\n\u001b[1;32m--> 186\u001b[0m     \u001b[39mraise\u001b[39;00m \u001b[39mRuntimeError\u001b[39;00m(\n\u001b[0;32m    187\u001b[0m         \u001b[39m\"\u001b[39m\u001b[39masyncio.run() cannot be called from a running event loop\u001b[39m\u001b[39m\"\u001b[39m)\n\u001b[0;32m    189\u001b[0m \u001b[39mwith\u001b[39;00m Runner(debug\u001b[39m=\u001b[39mdebug) \u001b[39mas\u001b[39;00m runner:\n\u001b[0;32m    190\u001b[0m     \u001b[39mreturn\u001b[39;00m runner\u001b[39m.\u001b[39mrun(main)\n",
      "\u001b[1;31mRuntimeError\u001b[0m: asyncio.run() cannot be called from a running event loop"
     ]
    }
   ],
   "source": [
    "wss_client = StockDataStream(ALPACA_API_KEY, ALPACA_SECRET_KEY)\n",
    "\n",
    "# async handler\n",
    "async def quote_data_handler(data):\n",
    "    # quote data will arrive here\n",
    "    print(data)\n",
    "\n",
    "wss_client.subscribe_quotes(quote_data_handler, \"SPY\")\n",
    "\n",
    "wss_client.run()"
   ]
  }
 ],
 "metadata": {
  "kernelspec": {
   "display_name": "Python 3",
   "language": "python",
   "name": "python3"
  },
  "language_info": {
   "codemirror_mode": {
    "name": "ipython",
    "version": 3
   },
   "file_extension": ".py",
   "mimetype": "text/x-python",
   "name": "python",
   "nbconvert_exporter": "python",
   "pygments_lexer": "ipython3",
   "version": "3.11.5"
  },
  "orig_nbformat": 4
 },
 "nbformat": 4,
 "nbformat_minor": 2
}
