{
 "cells": [
  {
   "cell_type": "markdown",
   "metadata": {},
   "source": [
    "Make sure to install the Alpaca Trade API (pip install alpaca-trade-api) before doing anything further."
   ]
  },
  {
   "cell_type": "markdown",
   "metadata": {},
   "source": [
    "These cells just import api and define login credentials. These don't really need to be secure - they don't have the ability to actually do anything real."
   ]
  },
  {
   "cell_type": "code",
   "execution_count": null,
   "metadata": {},
   "outputs": [],
   "source": [
    "import alpaca_trade_api as tradeapi\n",
    "import pandas as pd"
   ]
  },
  {
   "cell_type": "code",
   "execution_count": null,
   "metadata": {},
   "outputs": [],
   "source": [
    "ALPACA_API_KEY = \"PK4B928AJY8WOHKYXLFP\"\n",
    "ALPACA_SECRET_KEY = \"nZpB5btAryUDZSbC9YtLOHNKLlaTCabaCp4KV1jY\"\n",
    "BASE_URL = \"https://paper-api.alpaca.markets\"\n",
    "\n",
    "api = tradeapi.REST(ALPACA_API_KEY, ALPACA_SECRET_KEY, BASE_URL, api_version='v2')"
   ]
  },
  {
   "cell_type": "markdown",
   "metadata": {},
   "source": [
    "Get account status"
   ]
  },
  {
   "cell_type": "code",
   "execution_count": null,
   "metadata": {},
   "outputs": [],
   "source": [
    "account = api.get_account()\n",
    "\n",
    "print(account.id, '\\n', account.equity, '\\n', account.status)"
   ]
  },
  {
   "cell_type": "markdown",
   "metadata": {},
   "source": [
    "Get price of a stock. 'bars' is a dataframe containing the data from the time we requested. This prints the open price for every day between Jan 1st 2021 and Jan 30th 2021."
   ]
  },
  {
   "cell_type": "code",
   "execution_count": null,
   "metadata": {},
   "outputs": [],
   "source": [
    "symbol = 'AAPL'\n",
    "timeframe = '1D'\n",
    "start = \"2021-01-01\"\n",
    "end = \"2021-01-30\"\n",
    "\n",
    "bars = api.get_bars(symbol, timeframe, start, end).df\n",
    "\n",
    "print(bars.get('open'))"
   ]
  },
  {
   "cell_type": "code",
   "execution_count": 2,
   "metadata": {},
   "outputs": [
    {
     "name": "stdout",
     "output_type": "stream",
     "text": [
      "two is none\n"
     ]
    }
   ],
   "source": [
    "def test(one, **kwargs):\n",
    "    if (kwargs.get('two') == None):\n",
    "        print('two is none')\n",
    "\n",
    "test(1)"
   ]
  }
 ],
 "metadata": {
  "kernelspec": {
   "display_name": "Python 3",
   "language": "python",
   "name": "python3"
  },
  "language_info": {
   "codemirror_mode": {
    "name": "ipython",
    "version": 3
   },
   "file_extension": ".py",
   "mimetype": "text/x-python",
   "name": "python",
   "nbconvert_exporter": "python",
   "pygments_lexer": "ipython3",
   "version": "3.11.6"
  },
  "orig_nbformat": 4
 },
 "nbformat": 4,
 "nbformat_minor": 2
}
